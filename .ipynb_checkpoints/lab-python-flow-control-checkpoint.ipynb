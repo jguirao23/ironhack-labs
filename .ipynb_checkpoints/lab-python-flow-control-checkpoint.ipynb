{
 "cells": [
  {
   "cell_type": "markdown",
   "id": "d3bfc191-8885-42ee-b0a0-bbab867c6f9f",
   "metadata": {
    "tags": []
   },
   "source": [
    "# Lab | Flow Control"
   ]
  },
  {
   "cell_type": "markdown",
   "id": "3851fcd1-cf98-4653-9c89-e003b7ec9400",
   "metadata": {},
   "source": [
    "## Exercise: Managing Customer Orders Optimized\n",
    "\n",
    "In the last lab, you were starting an online store that sells various products. To ensure smooth operations, you developed a program that manages customer orders and inventory.\n",
    "\n",
    "You did so without using flow control. Let's go a step further and improve this code.\n",
    "\n",
    "Follow the steps below to complete the exercise:\n",
    "\n",
    "1. Look at your code from the lab data structures, and improve repeated code with loops.\n",
    "\n",
    "2. Instead of asking the user to input the name of three products that a customer wants to order, do the following:\n",
    "    \n",
    "    a. Prompt the user to enter the name of a product that a customer wants to order.\n",
    "    \n",
    "    b. Add the product name to the \"customer_orders\" set.\n",
    "    \n",
    "    c. Ask the user if they want to add another product (yes/no).\n",
    "    \n",
    "    d. Continue the loop until the user does not want to add another product.\n",
    "\n",
    "3. Instead of updating the inventory by subtracting 1 from the quantity of each product, only do it for  the products that were ordered (those in \"customer_orders\")."
   ]
  },
  {
   "cell_type": "code",
   "execution_count": 17,
   "id": "7e2c3c28",
   "metadata": {},
   "outputs": [],
   "source": [
    "products = [\"t-shirt\", \"mug\", \"hat\", \"book\", \"keychain\"] \n",
    "inventory = {}"
   ]
  },
  {
   "cell_type": "code",
   "execution_count": 18,
   "id": "ab69d375",
   "metadata": {},
   "outputs": [
    {
     "name": "stdout",
     "output_type": "stream",
     "text": [
      "Please enter the quantity of t-shirt available: 15\n",
      "Please enter the quantity of mug available: 10\n",
      "Please enter the quantity of hat available: 7\n",
      "Please enter the quantity of book available: 15\n",
      "Please enter the quantity of keychain available: 3\n",
      "{'t-shirt': 15, 'mug': 10, 'hat': 7, 'book': 15, 'keychain': 3}\n"
     ]
    }
   ],
   "source": [
    "for i in range(5):\n",
    "    key = products[i]\n",
    "    value = int(input('Please enter the quantity of ' + key + ' available: '))\n",
    "    inventory[key] = value\n",
    "print(inventory)"
   ]
  },
  {
   "cell_type": "code",
   "execution_count": 19,
   "id": "4d3eeeec",
   "metadata": {},
   "outputs": [],
   "source": [
    "customer_orders = set()"
   ]
  },
  {
   "cell_type": "code",
   "execution_count": 20,
   "id": "6838681e",
   "metadata": {},
   "outputs": [
    {
     "name": "stdout",
     "output_type": "stream",
     "text": [
      "Please enter the product you want to order: book\n",
      "Do you want to order another product? yes\n",
      "Please enter the product you want to order: t-shirt\n",
      "Do you want to order another product? no\n"
     ]
    }
   ],
   "source": [
    "customer_orders.add(input('Please enter the product you want to order: '))\n",
    "\n",
    "ask_product = \"yes\"\n",
    "\n",
    "while ask_product == \"yes\":\n",
    "    question = input(\"Do you want to order another product? \")\n",
    "    if question == \"yes\":\n",
    "        customer_orders.add(input('Please enter the product you want to order: '))\n",
    "    elif question == \"no\":\n",
    "        ask_product = \"no\"\n",
    "    else:\n",
    "        print(\"Please write yes/no\")"
   ]
  },
  {
   "cell_type": "code",
   "execution_count": 21,
   "id": "a424b376",
   "metadata": {},
   "outputs": [
    {
     "data": {
      "text/plain": [
       "{'book', 't-shirt'}"
      ]
     },
     "execution_count": 21,
     "metadata": {},
     "output_type": "execute_result"
    }
   ],
   "source": [
    "customer_orders"
   ]
  },
  {
   "cell_type": "code",
   "execution_count": 22,
   "id": "6598727a",
   "metadata": {},
   "outputs": [
    {
     "name": "stdout",
     "output_type": "stream",
     "text": [
      "Order Statistics:\n",
      "Total products ordered: 2\n",
      "Percentage of products ordered: 4.0%\n"
     ]
    }
   ],
   "source": [
    "total_products_ordered = len(customer_orders)\n",
    "percentage_ordered = total_products_ordered / sum(inventory.values())\n",
    "order_status = (total_products_ordered, percentage_ordered)\n",
    "\n",
    "print(\"Order Statistics:\")\n",
    "print(f'Total products ordered: {total_products_ordered}')\n",
    "print(f'Percentage of products ordered: {percentage_ordered*100}%')"
   ]
  },
  {
   "cell_type": "code",
   "execution_count": 23,
   "id": "2a6e81bf",
   "metadata": {},
   "outputs": [],
   "source": [
    "customer_orders = list(customer_orders)\n",
    "\n",
    "for item in list(customer_orders):\n",
    "    if item in inventory:\n",
    "        inventory[item] -= 1"
   ]
  },
  {
   "cell_type": "code",
   "execution_count": 24,
   "id": "3e3f84ca",
   "metadata": {},
   "outputs": [
    {
     "name": "stdout",
     "output_type": "stream",
     "text": [
      "For product t-shirt there are 14 units left\n",
      "For product mug there are 10 units left\n",
      "For product hat there are 7 units left\n",
      "For product book there are 14 units left\n",
      "For product keychain there are 3 units left\n"
     ]
    }
   ],
   "source": [
    "for key,value in inventory.items():\n",
    "    print(f'For product {key} there are {value} units left')"
   ]
  }
 ],
 "metadata": {
  "kernelspec": {
   "display_name": "Python 3 (ipykernel)",
   "language": "python",
   "name": "python3"
  },
  "language_info": {
   "codemirror_mode": {
    "name": "ipython",
    "version": 3
   },
   "file_extension": ".py",
   "mimetype": "text/x-python",
   "name": "python",
   "nbconvert_exporter": "python",
   "pygments_lexer": "ipython3",
   "version": "3.10.9"
  }
 },
 "nbformat": 4,
 "nbformat_minor": 5
}
